{
 "cells": [
  {
   "cell_type": "markdown",
   "metadata": {},
   "source": [
    "# 미구현기능(형태만 있는 것)"
   ]
  },
  {
   "cell_type": "raw",
   "metadata": {},
   "source": [
    "대댓글 기능(포기)"
   ]
  },
  {
   "cell_type": "raw",
   "metadata": {},
   "source": [
    "댓글 수정 및 삭제"
   ]
  },
  {
   "cell_type": "markdown",
   "metadata": {},
   "source": [
    "## 현재 하고있는기능"
   ]
  },
  {
   "cell_type": "raw",
   "metadata": {},
   "source": [
    "README"
   ]
  },
  {
   "cell_type": "markdown",
   "metadata": {},
   "source": [
    "# 미수정오류"
   ]
  },
  {
   "cell_type": "markdown",
   "metadata": {},
   "source": [
    "# 수정오류"
   ]
  },
  {
   "cell_type": "markdown",
   "metadata": {},
   "source": [
    "## URL 재귀 버그"
   ]
  },
  {
   "cell_type": "markdown",
   "metadata": {},
   "source": [
    "### Q"
   ]
  },
  {
   "cell_type": "markdown",
   "metadata": {},
   "source": [
    "http://127.0.0.1:8000/accounts/login/?next=/accounts/login/%3Fnext%3D/accounts/login/%253Fnext%253D/accounts/login/%25253Fnext%25253D/accounts/login/%2525253Fnext%2525253D/accounts/login/%252525253Fnext%252525253D/accounts/login/%25252525253Fnext%25252525253D/accounts/login/%2525252525253Fnext%2525252525253D/accounts/login/%252525252525253Fnext%252525252525253D/accounts/login/%25252525252525253Fnext%25252525252525253D/accounts/login/%2525252525252525253Fnext%2525252525252525253D/accounts/login/%252525252525252525253Fnext%252525252525252525253D/accounts/login/%25252525252525252525253Fnext%25252525252525252525253D/accounts/login/%2525252525252525252525253Fnext%2525252525252525252525253D/accounts/login/%252525252525252525252525253Fnext%252525252525252525252525253D/accounts/login/%25252525252525252525252525253Fnext%25252525252525252525252525253D/accounts/login/%2525252525252525252525252525253Fnext%2525252525252525252525252525253D/accounts/login/%252525252525252525252525252525253Fnext%252525252525252525252525252525253D/accounts/login/%25252525252525252525252525252525253Fnext%25252525252525252525252525252525253D/accounts/login/%2525252525252525252525252525252525253Fnext%2525252525252525252525252525252525253D/accounts/login/%252525252525252525252525252525252525253Fnext%252525252525252525252525252525252525253D/accounts/login/%25252525252525252525252525252525252525253Fnext%25252525252525252525252525252525252525253D/accounts/login/%2525252525252525252525252525252525252525253Fnext%2525252525252525252525252525252525252525253D/accounts/login/%252525252525252525252525252525252525252525253Fnext%252525252525252525252525252525252525252525253D/accounts/login/%25252525252525252525252525252525252525252525253Fnext%25252525252525252525252525252525252525252525253D/accounts/login/%2525252525252525252525252525252525252525252525253Fnext%2525252525252525252525252525252525252525252525253D/accounts/login/%252525252525252525252525252525252525252525252525253Fnext%252525252525252525252525252525252525252525252525253D/accounts/login/%25252525252525252525252525252525252525252525252525253Fnext%25252525252525252525252525252525252525252525252525253D/accounts/login/%2525252525252525252525252525252525252525252525252525253Fnext%2525252525252525252525252525252525252525252525252525253D/accounts/login/%252525252525252525252525252525252525252525252525252525253Fnext%252525252525252525252525252525252525252525252525252525253D/accounts/login/%25252525252525252525252525252525252525252525252525252525253Fnext%25252525252525252525252525252525252525252525252525252525253D/accounts/login/%2525252525252525252525252525252525252525252525252525252525253Fnext%2525252525252525252525252525252525252525252525252525252525253D/accounts/login/%252525252525252525252525252525252525252525252525252525252525253Fnext%252525252525252525252525252525252525252525252525252525252525253D/accounts/login/%25252525252525252525252525252525252525252525252525252525252525253Fnext%25252525252525252525252525252525252525252525252525252525252525253D/accounts/login/%2525252525252525252525252525252525252525252525252525252525252525253Fnext%2525252525252525252525252525252525252525252525252525252525252525253D/accounts/login/%252525252525252525252525252525252525252525252525252525252525252525253Fnext%252525252525252525252525252525252525252525252525252525252525252525253D/accounts/login/%25252525252525252525252525252525252525252525252525252525252525252525253Fnext%25252525252525252525252525252525252525252525252525252525252525252525253D/accounts/login/%2525252525252525252525252525252525252525252525252525252525252525252525253Fnext%2525252525252525252525252525252525252525252525252525252525252525252525253D/accounts/login/"
   ]
  },
  {
   "cell_type": "markdown",
   "metadata": {},
   "source": [
    "### A"
   ]
  },
  {
   "cell_type": "raw",
   "metadata": {},
   "source": [
    "LoginRequired옵션을 상속받아서 하려한것이 문제인것 같다.\n",
    "별개로 로그인폼 자체에서 따로구현하니 잘 작동했다."
   ]
  },
  {
   "cell_type": "code",
   "execution_count": null,
   "metadata": {},
   "outputs": [],
   "source": [
    "def dispatch(self, request, *args, **kwargs):\n",
    "        if request.user.is_authenticated:\n",
    "            html = \"\"\"\n",
    "                    <script>\n",
    "                        alert('이미 로그인한 사용자입니다.')\n",
    "                        window.location.href = \"/blog/\"\n",
    "                    </script>\n",
    "                    \"\"\"\n",
    "            return HttpResponse(html)\n",
    "        else:\n",
    "            return super().dispatch(request, *args, **kwargs)"
   ]
  },
  {
   "cell_type": "raw",
   "metadata": {},
   "source": [
    "덤으로 로그아웃도 처리해주었다."
   ]
  },
  {
   "cell_type": "code",
   "execution_count": null,
   "metadata": {},
   "outputs": [],
   "source": [
    "def dispatch(self, request, *args, **kwargs):\n",
    "        if not request.user.is_authenticated:\n",
    "            html = \"\"\"\n",
    "                    <script>\n",
    "                        alert('로그인해야합니다.')\n",
    "                        window.location.href = \"/accounts/login\"\n",
    "                    </script>\n",
    "                    \"\"\"\n",
    "            return HttpResponse(html)\n",
    "        else:\n",
    "            return super().dispatch(request, *args, **kwargs)"
   ]
  },
  {
   "cell_type": "markdown",
   "metadata": {},
   "source": [
    "## 카테고리 checkbox 다중(m:n관계) form으로 전송"
   ]
  },
  {
   "cell_type": "markdown",
   "metadata": {},
   "source": [
    "### Q"
   ]
  },
  {
   "cell_type": "raw",
   "metadata": {},
   "source": [
    "FieldError at /blog/search/korean_food/\n",
    "Cannot resolve keyword 'tag' into field. Choices are: author, author_id, comments, content, created_at, file_upload, head_image, id, likes, likes_count, tags, title, updated_at, view_count"
   ]
  },
  {
   "cell_type": "raw",
   "metadata": {},
   "source": [
    "class PostCreateView(LoginRequiredMixin, CreateView):\n",
    "    model = Post\n",
    "    fields = \"__all__\"\n",
    "    template_name = \"blog/post_form.html\"\n",
    "\n",
    "    def post(self, request):\n",
    "        form = PostForm(request.POST, request.FILES)\n",
    "        if form.is_valid():\n",
    "            post = form.save(commit=False)\n",
    "            print(form.cleaned_data)\n",
    "            post.author = request.user\n",
    "            post.save()\n",
    "        return redirect(\"post_list\")"
   ]
  },
  {
   "cell_type": "markdown",
   "metadata": {},
   "source": [
    "### A"
   ]
  },
  {
   "cell_type": "raw",
   "metadata": {},
   "source": [
    "html에서 checkbox value가 123같은 숫자로 되잇어야 했다"
   ]
  },
  {
   "cell_type": "markdown",
   "metadata": {},
   "source": [
    "## form을 데이터베이스로 M:N 관계 인풋"
   ]
  },
  {
   "cell_type": "markdown",
   "metadata": {},
   "source": [
    "### Q"
   ]
  },
  {
   "cell_type": "raw",
   "metadata": {},
   "source": [
    "<Post: 17171771717171>\" needs to have a value for field \"id\" before this many-to-many relationship can be used.\n",
    "카테고리값이 명확히 입력이 안된다."
   ]
  },
  {
   "cell_type": "markdown",
   "metadata": {},
   "source": [
    "### A"
   ]
  },
  {
   "cell_type": "code",
   "execution_count": null,
   "metadata": {},
   "outputs": [],
   "source": [
    "if form.is_valid():\n",
    "            post = form.save(commit=False)\n",
    "            post.author = request.user\n",
    "            post.save()\n",
    "            form.save_m2m()"
   ]
  },
  {
   "cell_type": "raw",
   "metadata": {},
   "source": [
    "위와 같이 save_m2m()을 해야 정상적으로 저장된다."
   ]
  },
  {
   "cell_type": "markdown",
   "metadata": {},
   "source": [
    "## 회원가입폼에서 비밀번호암호화가 이상하게 들어온다... "
   ]
  },
  {
   "cell_type": "markdown",
   "metadata": {},
   "source": [
    "### Q"
   ]
  },
  {
   "attachments": {
    "image.png": {
     "image/png": "[encoded data removed]"
    }
   },
   "cell_type": "markdown",
   "metadata": {},
   "source": [
    "![image.png](attachment:image.png)"
   ]
  },
  {
   "cell_type": "markdown",
   "metadata": {},
   "source": [
    "### A"
   ]
  },
  {
   "cell_type": "code",
   "execution_count": null,
   "metadata": {},
   "outputs": [],
   "source": [
    "def post(self, request):\n",
    "        form = UserForm(request.POST, request.FILES)\n",
    "        if form.is_valid():\n",
    "            print(form.cleaned_data)\n",
    "            user = form.save(commit=False)\n",
    "            user.set_password(form.cleaned_data[\"password\"])\n",
    "            user.save()\n",
    "            return redirect(\"post_list\")"
   ]
  },
  {
   "cell_type": "markdown",
   "metadata": {},
   "source": []
  }
 ],
 "metadata": {
  "kernelspec": {
   "display_name": "virtual",
   "language": "python",
   "name": "conda"
  },
  "language_info": {
   "name": "python",
   "version": "3.12.0"
  }
 },
 "nbformat": 4,
 "nbformat_minor": 2
}
